{
  "nbformat": 4,
  "nbformat_minor": 0,
  "metadata": {
    "colab": {
      "name": "Hotel Reviews Workshop.ipynb",
      "version": "0.3.2",
      "provenance": [],
      "collapsed_sections": [],
      "include_colab_link": true
    }
  },
  "cells": [
    {
      "cell_type": "markdown",
      "metadata": {
        "id": "view-in-github",
        "colab_type": "text"
      },
      "source": [
        "<a href=\"https://colab.research.google.com/github/russ-douglas/thinkful-git-workshop/blob/master/Hotel_Reviews_Workshop.ipynb\" target=\"_parent\"><img src=\"https://colab.research.google.com/assets/colab-badge.svg\" alt=\"Open In Colab\"/></a>"
      ]
    },
    {
      "cell_type": "code",
      "metadata": {
        "id": "Hm_ee1EnqmGs",
        "colab_type": "code",
        "colab": {}
      },
      "source": [
        "import pandas as pd\n",
        "import numpy as np\n",
        "import matplotlib.pyplot as plt\n",
        "import scipy\n",
        "import sklearn\n",
        "import seaborn as sns\n",
        "import re\n",
        "from collections import Counter\n",
        "%matplotlib inline"
      ],
      "execution_count": 0,
      "outputs": []
    },
    {
      "cell_type": "markdown",
      "metadata": {
        "id": "H3xOM-QJz6s1",
        "colab_type": "text"
      },
      "source": [
        "# Hotel Review Workshop Notebook\n",
        "\n",
        "This notebook will guide you through the creation of a simple bag of words model for text matching."
      ]
    },
    {
      "cell_type": "code",
      "metadata": {
        "id": "YbLv_WYBqm3b",
        "colab_type": "code",
        "colab": {}
      },
      "source": [
        "# Import the Data Set.\n",
        "data = pd.read_csv('https://github.com/Thinkful-Ed/data-201-resources/raw/master/hotel-reviews.csv')"
      ],
      "execution_count": 0,
      "outputs": []
    },
    {
      "cell_type": "code",
      "metadata": {
        "id": "Rrh7xPRKquCf",
        "colab_type": "code",
        "colab": {}
      },
      "source": [
        "# Perform some basic cleaning and character removal.\n",
        "\n",
        "# Make everything lower case.\n",
        "data['reviews.text'] = data['reviews.text'].str.lower()\n",
        "\n",
        "# Remove non-text characters.\n",
        "data['reviews.text'] = data['reviews.text'].str.replace(r'\\.|\\!|\\?|\\'|,|-|\\(|\\)', \"\",)\n",
        "\n",
        "# Fill in black reviews with '' rather than Null (which would give us errors).\n",
        "data['reviews.text'] = data['reviews.text'].fillna('')"
      ],
      "execution_count": 0,
      "outputs": []
    },
    {
      "cell_type": "code",
      "metadata": {
        "id": "fpS7eoZQq8vs",
        "colab_type": "code",
        "colab": {}
      },
      "source": [
        "# Import and initiate a vectorizer.\n",
        "from sklearn.feature_extraction.text import CountVectorizer\n",
        "\n",
        "# The max features is how many words we want to allow us to create columns for.\n",
        "vectorizer = CountVectorizer(max_features=5000)"
      ],
      "execution_count": 0,
      "outputs": []
    },
    {
      "cell_type": "code",
      "metadata": {
        "id": "z6ScHo2KrBhw",
        "colab_type": "code",
        "colab": {}
      },
      "source": [
        "# Vectorize our reviews to transform sentences into volumns.\n",
        "X = vectorizer.fit_transform(data['reviews.text'])\n",
        "\n",
        "# And then put all of that in a table.\n",
        "bag_of_words = pd.DataFrame(X.toarray(), columns=vectorizer.get_feature_names())"
      ],
      "execution_count": 0,
      "outputs": []
    },
    {
      "cell_type": "code",
      "metadata": {
        "id": "ceol8A1jrD9f",
        "colab_type": "code",
        "colab": {}
      },
      "source": [
        "# Rename some columns for clarity.\n",
        "data.rename(columns={'address': 'hotel_address', 'city': 'hotel_city',\n",
        "                     'country':'hotel_country', 'name':'hotel_name'},\n",
        "            inplace=True)\n",
        "\n",
        "# Join our bag of words back to our initial hotel data.\n",
        "full_df = data.join(bag_of_words)"
      ],
      "execution_count": 0,
      "outputs": []
    },
    {
      "cell_type": "code",
      "metadata": {
        "id": "qvVz1w12rHTx",
        "colab_type": "code",
        "colab": {}
      },
      "source": [
        "# X is our words.\n",
        "X = bag_of_words\n",
        "\n",
        "# Y is our hotel name (the outcome we care about).\n",
        "Y_hotel = data['hotel_name']"
      ],
      "execution_count": 0,
      "outputs": []
    },
    {
      "cell_type": "code",
      "metadata": {
        "id": "shyH_YsbrI2e",
        "colab_type": "code",
        "outputId": "7c63b9ae-8430-4b50-e8dc-2425d9ed8198",
        "colab": {
          "base_uri": "https://localhost:8080/",
          "height": 119
        }
      },
      "source": [
        "# Import a random forest model.\n",
        "from sklearn.ensemble import RandomForestClassifier\n",
        "rfc = RandomForestClassifier()\n",
        "\n",
        "# Fit that random forest model to our data.\n",
        "rfc.fit(X,Y_hotel)"
      ],
      "execution_count": 0,
      "outputs": [
        {
          "output_type": "execute_result",
          "data": {
            "text/plain": [
              "RandomForestClassifier(bootstrap=True, class_weight=None, criterion='gini',\n",
              "            max_depth=None, max_features='auto', max_leaf_nodes=None,\n",
              "            min_impurity_split=1e-07, min_samples_leaf=1,\n",
              "            min_samples_split=2, min_weight_fraction_leaf=0.0,\n",
              "            n_estimators=10, n_jobs=1, oob_score=False, random_state=None,\n",
              "            verbose=0, warm_start=False)"
            ]
          },
          "metadata": {
            "tags": []
          },
          "execution_count": 45
        }
      ]
    },
    {
      "cell_type": "markdown",
      "metadata": {
        "id": "1arYoL8tI36l",
        "colab_type": "text"
      },
      "source": [
        "# If you want to run a different test review, start from here."
      ]
    },
    {
      "cell_type": "code",
      "metadata": {
        "id": "cZwwDcZ6rJ67",
        "colab_type": "code",
        "colab": {}
      },
      "source": [
        "# Write your own dream vacation review here...\n",
        "test_review = ['''\n",
        "    I loved the beach and the sunshine and the clean and modern room.\n",
        "    ''']"
      ],
      "execution_count": 0,
      "outputs": []
    },
    {
      "cell_type": "code",
      "metadata": {
        "id": "vAyiSlugrMUV",
        "colab_type": "code",
        "colab": {}
      },
      "source": [
        "# Convert your test review into a vector.\n",
        "X_test = vectorizer.transform(test_review).toarray()"
      ],
      "execution_count": 0,
      "outputs": []
    },
    {
      "cell_type": "code",
      "metadata": {
        "id": "hBNMgkfWrM3j",
        "colab_type": "code",
        "colab": {}
      },
      "source": [
        "# Match your review.\n",
        "prediction = rfc.predict(X_test)[0]"
      ],
      "execution_count": 0,
      "outputs": []
    },
    {
      "cell_type": "code",
      "metadata": {
        "id": "1KZPXlHPrN-y",
        "colab_type": "code",
        "outputId": "aadfc75f-f367-47e7-f32e-ac6a4f3e5196",
        "colab": {
          "base_uri": "https://localhost:8080/",
          "height": 80
        }
      },
      "source": [
        "# Return the essential information about your match.\n",
        "data[data['hotel_name'] == prediction][['hotel_name', 'hotel_address', \n",
        "                                        'hotel_city', 'hotel_country']].head(1)"
      ],
      "execution_count": 0,
      "outputs": [
        {
          "output_type": "execute_result",
          "data": {
            "text/html": [
              "<div>\n",
              "<style>\n",
              "    .dataframe thead tr:only-child th {\n",
              "        text-align: right;\n",
              "    }\n",
              "\n",
              "    .dataframe thead th {\n",
              "        text-align: left;\n",
              "    }\n",
              "\n",
              "    .dataframe tbody tr th {\n",
              "        vertical-align: top;\n",
              "    }\n",
              "</style>\n",
              "<table border=\"1\" class=\"dataframe\">\n",
              "  <thead>\n",
              "    <tr style=\"text-align: right;\">\n",
              "      <th></th>\n",
              "      <th>hotel_name</th>\n",
              "      <th>hotel_address</th>\n",
              "      <th>hotel_city</th>\n",
              "      <th>hotel_country</th>\n",
              "    </tr>\n",
              "  </thead>\n",
              "  <tbody>\n",
              "    <tr>\n",
              "      <th>28680</th>\n",
              "      <td>Holiday Inn Express Hotel and Suites Va Beach ...</td>\n",
              "      <td>2607 Atlantic Ave</td>\n",
              "      <td>Virginia Beach</td>\n",
              "      <td>US</td>\n",
              "    </tr>\n",
              "  </tbody>\n",
              "</table>\n",
              "</div>"
            ],
            "text/plain": [
              "                                              hotel_name      hotel_address  \\\n",
              "28680  Holiday Inn Express Hotel and Suites Va Beach ...  2607 Atlantic Ave   \n",
              "\n",
              "           hotel_city hotel_country  \n",
              "28680  Virginia Beach            US  "
            ]
          },
          "metadata": {
            "tags": []
          },
          "execution_count": 49
        }
      ]
    },
    {
      "cell_type": "code",
      "metadata": {
        "id": "XvzNF0Gsswfg",
        "colab_type": "code",
        "colab": {}
      },
      "source": [
        ""
      ],
      "execution_count": 0,
      "outputs": []
    }
  ]
}